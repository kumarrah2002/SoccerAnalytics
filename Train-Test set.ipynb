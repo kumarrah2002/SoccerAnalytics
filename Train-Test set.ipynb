{
 "cells": [
  {
   "cell_type": "code",
   "execution_count": 3,
   "id": "6e9e4423",
   "metadata": {},
   "outputs": [],
   "source": [
    "import pandas as pd\n",
    "\n",
    "x_test = pd.read_csv(r'C:\\Users\\kumar\\Data Mining Project\\x_test.csv')\n",
    "x_train = pd.read_csv(r'C:\\Users\\kumar\\Data Mining Project\\x_train.csv')\n",
    "y_test = pd.read_csv(r'C:\\Users\\kumar\\Data Mining Project\\y_test.csv')\n",
    "y_train = pd.read_csv(r'C:\\Users\\kumar\\Data Mining Project\\y_train.csv')"
   ]
  },
  {
   "cell_type": "markdown",
   "id": "68c2aff2",
   "metadata": {},
   "source": [
    "## Encoding Data "
   ]
  },
  {
   "cell_type": "markdown",
   "id": "6f96ab6a",
   "metadata": {},
   "source": [
    "## Creating the Neural Network "
   ]
  },
  {
   "cell_type": "code",
   "execution_count": 4,
   "id": "f9fb7c8b",
   "metadata": {},
   "outputs": [],
   "source": [
    " #from keras.models import Sequential\n",
    "#from keras.layers import Dense\n",
    "\n",
    "#classifier = Sequential()\n",
    "#classifier.add(Dense(units = 32 , activation = 'relu', input_dim = 64))\n",
    "#classifier.add(Dense(units = 16, activation = 'relu'))\n",
    "#classifier.add(Dense(units = 8, activation = 'relu'))\n",
    "#classifier.add(Dense(units = 4, activation = 'relu'))\n",
    "#classifier.add(Dense(units = 1, activation = 'sigmoid'))"
   ]
  }
 ],
 "metadata": {
  "kernelspec": {
   "display_name": "Python 3",
   "language": "python",
   "name": "python3"
  },
  "language_info": {
   "codemirror_mode": {
    "name": "ipython",
    "version": 3
   },
   "file_extension": ".py",
   "mimetype": "text/x-python",
   "name": "python",
   "nbconvert_exporter": "python",
   "pygments_lexer": "ipython3",
   "version": "3.8.8"
  }
 },
 "nbformat": 4,
 "nbformat_minor": 5
}
